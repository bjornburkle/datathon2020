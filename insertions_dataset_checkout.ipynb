{
 "cells": [
  {
   "cell_type": "code",
   "execution_count": 6,
   "metadata": {},
   "outputs": [],
   "source": [
    "import numpy as np"
   ]
  },
  {
   "cell_type": "code",
   "execution_count": 7,
   "metadata": {},
   "outputs": [
    {
     "name": "stderr",
     "output_type": "stream",
     "text": [
      "/users/jburba/data/jburba/anaconda3/envs/py3_dthon/lib/python3.7/site-packages/ipykernel_launcher.py:2: ConversionWarning: Some errors were detected !\n",
      "    Line #261 (got 1 columns instead of 3)\n",
      "    Line #317 (got 1 columns instead of 3)\n",
      "    Line #422 (got 1 columns instead of 3)\n",
      "    Line #562 (got 2 columns instead of 3)\n",
      "    Line #617 (got 1 columns instead of 3)\n",
      "    Line #746 (got 1 columns instead of 3)\n",
      "  \n"
     ]
    }
   ],
   "source": [
    "insertions_array = np.genfromtxt('insertions_subset.tsv', delimiter='\\t', skip_header=1,\n",
    "                                 max_rows=1000, invalid_raise=False, dtype='str')"
   ]
  },
  {
   "cell_type": "code",
   "execution_count": 9,
   "metadata": {},
   "outputs": [],
   "source": [
    "insertions_dic = {}\n",
    "insertions_dic['base'] = insertions_array[:, 0]\n",
    "insertions_dic['phrase'] = insertions_array[:, 1]\n",
    "insertions_dic['edited'] = insertions_array[:, 2]"
   ]
  },
  {
   "cell_type": "code",
   "execution_count": 29,
   "metadata": {},
   "outputs": [
    {
     "name": "stdout",
     "output_type": "stream",
     "text": [
      "Average phrase length = 4.353474320241692\n"
     ]
    }
   ],
   "source": [
    "phrase_lengths = [len(phrase.strip(',& .-=><\\'\\\"/?!').strip(\"'s\").split(' ')) for phrase in insertions_dic['phrase']]\n",
    "print(\"Average phrase length = {}\".format(np.mean(phrase_lengths)))"
   ]
  }
 ],
 "metadata": {
  "kernelspec": {
   "display_name": "Python 3 (datathon)",
   "language": "python",
   "name": "py3_dthon"
  },
  "language_info": {
   "codemirror_mode": {
    "name": "ipython",
    "version": 3
   },
   "file_extension": ".py",
   "mimetype": "text/x-python",
   "name": "python",
   "nbconvert_exporter": "python",
   "pygments_lexer": "ipython3",
   "version": "3.7.5"
  }
 },
 "nbformat": 4,
 "nbformat_minor": 2
}
