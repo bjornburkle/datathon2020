{
 "cells": [
  {
   "cell_type": "code",
   "execution_count": 1,
   "metadata": {},
   "outputs": [],
   "source": [
    "# !pip3 install sklearn\n",
    "# !pip3 install nltk"
   ]
  },
  {
   "cell_type": "code",
   "execution_count": 2,
   "metadata": {},
   "outputs": [],
   "source": [
    "# Must first run:\n",
    "# !pip3 install spacy\n",
    "# os.system(python3 -m spacy download en_core_web_sm)"
   ]
  },
  {
   "cell_type": "code",
   "execution_count": 3,
   "metadata": {},
   "outputs": [],
   "source": [
    "import numpy as np\n",
    "import pandas\n",
    "# Need to use word vectorization\n",
    "from sklearn.feature_extraction.text import CountVectorizer\n",
    "# For obtaining pre-trained word embeddings\n",
    "import spacy\n",
    "\n",
    "import keras"
   ]
  },
  {
   "cell_type": "code",
   "execution_count": null,
   "metadata": {},
   "outputs": [],
   "source": [
    "# Input dataset\n",
    "\n",
    "insertions_array = np.genfromtxt('insertions_subset.tsv', delimiter='\\t', skip_header=1,\n",
    "                                 max_rows=10000, invalid_raise=False, dtype='str')[:,1]"
   ]
  },
  {
   "cell_type": "code",
   "execution_count": 5,
   "metadata": {},
   "outputs": [],
   "source": [
    "# Import pre-trained word vector dictionary\n",
    "nlp = spacy.load('en_core_web_sm')\n",
    "EMBEDDINGS_LEN = len(nlp('apple').vector)\n",
    "embeddings_index = np.zeros((len(vectorizer.get_feature_names()) + 1, EMBEDDINGS_LEN))\n"
   ]
  },
  {
   "cell_type": "code",
   "execution_count": null,
   "metadata": {},
   "outputs": [],
   "source": [
    "model = keras.Sequential()\n",
    "model.add(Embedding(len(vectorizer.get_feature_names()) + 1,\n",
    "                    EMBEDDINGS_LEN,  # Embedding size\n",
    "                    weights=[embeddings_index],\n",
    "                    input_length=MAX_SEQ_LENGHT,\n",
    "                    trainable=False))\n",
    "model.add(LSTM(300))"
   ]
  },
  {
   "cell_type": "code",
   "execution_count": null,
   "metadata": {},
   "outputs": [],
   "source": []
  }
 ],
 "metadata": {
  "kernelspec": {
   "display_name": "Python 3",
   "language": "python",
   "name": "python3"
  },
  "language_info": {
   "codemirror_mode": {
    "name": "ipython",
    "version": 3
   },
   "file_extension": ".py",
   "mimetype": "text/x-python",
   "name": "python",
   "nbconvert_exporter": "python",
   "pygments_lexer": "ipython3",
   "version": "3.6.9"
  }
 },
 "nbformat": 4,
 "nbformat_minor": 2
}
