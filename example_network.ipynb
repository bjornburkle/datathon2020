{
 "cells": [
  {
   "cell_type": "code",
   "execution_count": 1,
   "metadata": {},
   "outputs": [],
   "source": [
    "# !pip3 install sklearn\n",
    "# !pip3 install nltk"
   ]
  },
  {
   "cell_type": "code",
   "execution_count": 2,
   "metadata": {},
   "outputs": [],
   "source": [
    "# Must first run:\n",
    "# !pip3 install spacy\n",
    "# os.system(python3 -m spacy download en_core_web_sm)"
   ]
  },
  {
   "cell_type": "code",
   "execution_count": 4,
   "metadata": {},
   "outputs": [],
   "source": [
    "import numpy as np\n",
    "import pandas\n",
    "# Need to use word vectorization\n",
    "from sklearn.feature_extraction.text import CountVectorizer\n",
    "import nltk\n",
    "# For obtaining pre-trained word embeddings\n",
    "import spacy\n",
    "import keras"
   ]
  },
  {
   "cell_type": "code",
   "execution_count": 9,
   "metadata": {},
   "outputs": [
    {
     "name": "stderr",
     "output_type": "stream",
     "text": [
      "/usr/lib/python3/dist-packages/ipykernel_launcher.py:4: ConversionWarning: Some errors were detected !\n",
      "    Line #261 (got 1 columns instead of 3)\n",
      "    Line #317 (got 1 columns instead of 3)\n",
      "    Line #422 (got 1 columns instead of 3)\n",
      "    Line #562 (got 2 columns instead of 3)\n",
      "    Line #617 (got 1 columns instead of 3)\n",
      "    Line #746 (got 1 columns instead of 3)\n",
      "    Line #1566 (got 1 columns instead of 3)\n",
      "    Line #2845 (got 1 columns instead of 3)\n",
      "    Line #3130 (got 2 columns instead of 3)\n",
      "    Line #3252 (got 2 columns instead of 3)\n",
      "    Line #3600 (got 2 columns instead of 3)\n",
      "    Line #3616 (got 1 columns instead of 3)\n",
      "    Line #4048 (got 2 columns instead of 3)\n",
      "    Line #4227 (got 2 columns instead of 3)\n",
      "    Line #4280 (got 2 columns instead of 3)\n",
      "    Line #4291 (got 2 columns instead of 3)\n",
      "    Line #4429 (got 2 columns instead of 3)\n",
      "    Line #4648 (got 1 columns instead of 3)\n",
      "    Line #5041 (got 1 columns instead of 3)\n",
      "    Line #6223 (got 1 columns instead of 3)\n",
      "    Line #6364 (got 2 columns instead of 3)\n",
      "    Line #6607 (got 2 columns instead of 3)\n",
      "    Line #6702 (got 2 columns instead of 3)\n",
      "    Line #7557 (got 1 columns instead of 3)\n",
      "    Line #8030 (got 2 columns instead of 3)\n",
      "    Line #8566 (got 2 columns instead of 3)\n",
      "    Line #8932 (got 2 columns instead of 3)\n",
      "    Line #9255 (got 2 columns instead of 3)\n",
      "    Line #9706 (got 1 columns instead of 3)\n",
      "    Line #9974 (got 2 columns instead of 3)\n",
      "  after removing the cwd from sys.path.\n"
     ]
    }
   ],
   "source": [
    "# Input dataset\n",
    "\n",
    "insertions_array = np.genfromtxt('insertions.tsv', delimiter='\\t', skip_header=1,\n",
    "                                 max_rows=10000, invalid_raise=False, dtype='str')[:,1]\n",
    "vectorizer = CountVectorizer(binary=True, \n",
    "                             lowercase=True, min_df=3, max_df=0.9, max_features=5000)\n",
    "X_train = vectorizer.fit_transform(insertions_array[:3000])"
   ]
  },
  {
   "cell_type": "code",
   "execution_count": 10,
   "metadata": {},
   "outputs": [],
   "source": [
    "# Import pre-trained word vector dictionary\n",
    "nlp = spacy.load('en_core_web_sm')\n",
    "EMBEDDINGS_LEN = len(nlp('apple').vector)\n",
    "embeddings_index = np.zeros((len(vectorizer.get_feature_names()) + 1, EMBEDDINGS_LEN))\n"
   ]
  },
  {
   "cell_type": "code",
   "execution_count": null,
   "metadata": {},
   "outputs": [],
   "source": []
  },
  {
   "cell_type": "code",
   "execution_count": null,
   "metadata": {},
   "outputs": [],
   "source": [
    "# Build a basic keras model\n",
    "\n",
    "#import cluster_layer\n",
    "\n",
    "model = keras.Sequential()\n",
    "model.add(keras.layers.Embedding(len(vectorizer.get_feature_names()) + 1,\n",
    "                    EMBEDDINGS_LEN,  # Embedding size\n",
    "                    weights=[embeddings_index],\n",
    "                    input_length=MAX_SEQ_LENGHT,\n",
    "                    trainable=False))\n",
    "model.add(keras.layers.LSTM(300))\n",
    "model.add(keras.layers.Dense(20))\n"
   ]
  },
  {
   "cell_type": "code",
   "execution_count": null,
   "metadata": {},
   "outputs": [],
   "source": []
  }
 ],
 "metadata": {
  "kernelspec": {
   "display_name": "Python 3",
   "language": "python",
   "name": "python3"
  },
  "language_info": {
   "codemirror_mode": {
    "name": "ipython",
    "version": 3
   },
   "file_extension": ".py",
   "mimetype": "text/x-python",
   "name": "python",
   "nbconvert_exporter": "python",
   "pygments_lexer": "ipython3",
   "version": "3.6.9"
  }
 },
 "nbformat": 4,
 "nbformat_minor": 2
}
